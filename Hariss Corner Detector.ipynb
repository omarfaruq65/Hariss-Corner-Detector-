{
 "cells": [
  {
   "cell_type": "code",
   "execution_count": 1,
   "metadata": {},
   "outputs": [],
   "source": [
    "import numpy as np \n",
    "import matplotlib.pyplot as plt\n",
    "import cv2\n",
    "import matplotlib.image as mpimg\n",
    "from skimage.color import rgb2gray\n",
    "\n",
    "import warnings \n",
    "warnings.filterwarnings('ignore')\n",
    "%matplotlib inline "
   ]
  },
  {
   "cell_type": "code",
   "execution_count": 2,
   "metadata": {},
   "outputs": [
    {
     "data": {
      "image/png": "[encoded data removed]",
      "text/plain": [
       "<Figure size 1080x1080 with 2 Axes>"
      ]
     },
     "metadata": {},
     "output_type": "display_data"
    }
   ],
   "source": [
    "# Define Hariss Corner Detection Function \n",
    "\n",
    "def findHarissCorner(image, window_size = 5, k = 0.04, thres = 10000):\n",
    "    \n",
    "    # Find image gardient \n",
    "    \n",
    "    # Sobel X and Y derivatives \n",
    "    dx = cv2.Sobel(image,cv2.CV_64F,1,0,ksize=5)\n",
    "    dy = cv2.Sobel(image,cv2.CV_64F,0,1,ksize=5)\n",
    "    \n",
    "    # Products of derivatives\n",
    "    Ixx = dx**2 \n",
    "    Iyy = dy**2\n",
    "    Ixy = dx * dy\n",
    "    \n",
    "    height = image.shape[0] # image height\n",
    "    width = image.shape[1] # image width\n",
    "    \n",
    "    newImg = image.copy()\n",
    "    \n",
    "    color_img = cv2.cvtColor(newImg, cv2.COLOR_GRAY2RGB) # Gray to RGB convert \n",
    "    offset = int(window_size / 2) \n",
    "    \n",
    "    #loop over through image and find corners\n",
    "    for y in range(offset, height-offset):\n",
    "            for x in range(offset, width-offset):\n",
    "                \n",
    "                # Shift Intensity \n",
    "                windowIxx = Ixx[y - offset:y + offset + 1, x - offset:x + offset + 1]\n",
    "                windowIxy = Ixy[y - offset:y + offset + 1, x - offset:x + offset + 1]\n",
    "                windowIyy = Iyy[y - offset:y + offset + 1, x - offset:x + offset + 1]\n",
    "                \n",
    "                # Calculate sum of square \n",
    "                Sxx = windowIxx.sum()\n",
    "                Syy = windowIyy.sum()\n",
    "                Sxy = windowIxy.sum()\n",
    "                \n",
    "                # Find determinant and trace that use to get corners\n",
    "                det = (Sxx * Syy) - (Sxy**2)\n",
    "                trace = Sxx + Syy\n",
    "                \n",
    "                # Response score \n",
    "                R = det - k * (trace**2)\n",
    "                \n",
    "                #If corner response is over threshold then color(Red) the point location\n",
    "                if R > thres:\n",
    "                    color_img.itemset((y, x, 0), 255)\n",
    "                    color_img.itemset((y, x, 1), 0)\n",
    "                    color_img.itemset((y, x, 2), 0)               \n",
    "    return color_img\n",
    "\n",
    "\n",
    "img = mpimg.imread('box.jpg') # Read Input Image \n",
    "gray = cv2.cvtColor(img, cv2.COLOR_RGB2GRAY) # RGB to Gray Convert\n",
    "\n",
    "#np_im = np.array(img) # image to numpy array convert \n",
    "#gray = np.float32(gray) # Data (dtype) type conversion\n",
    "\n",
    "hariss_corners = findHarissCorner(gray, 5, 0.04, 10000)\n",
    "\n",
    "# Visualization\n",
    "plt.figure(figsize = (15,15))\n",
    "\n",
    "plt.subplot(121)\n",
    "plt.title(\"Original Image\")\n",
    "plt.xticks([]), plt.yticks([])\n",
    "plt.imshow(img)\n",
    "\n",
    "plt.subplot(122)\n",
    "plt.title(\"Corner Image\")\n",
    "plt.xticks([]), plt.yticks([])\n",
    "plt.imshow(hariss_corners)\n",
    "\n",
    "plt.show()\n"
   ]
  },
  {
   "cell_type": "code",
   "execution_count": null,
   "metadata": {},
   "outputs": [],
   "source": []
  }
 ],
 "metadata": {
  "kernelspec": {
   "display_name": "Python 3",
   "language": "python",
   "name": "python3"
  },
  "language_info": {
   "codemirror_mode": {
    "name": "ipython",
    "version": 3
   },
   "file_extension": ".py",
   "mimetype": "text/x-python",
   "name": "python",
   "nbconvert_exporter": "python",
   "pygments_lexer": "ipython3",
   "version": "3.6.8"
  }
 },
 "nbformat": 4,
 "nbformat_minor": 2
}
